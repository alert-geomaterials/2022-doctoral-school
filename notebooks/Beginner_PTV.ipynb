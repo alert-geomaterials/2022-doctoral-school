{
  "nbformat": 4,
  "nbformat_minor": 0,
  "metadata": {
    "colab": {
      "provenance": [],
      "collapsed_sections": []
    },
    "kernelspec": {
      "name": "python3",
      "display_name": "Python 3"
    },
    "language_info": {
      "name": "python"
    }
  },
  "cells": [
    {
      "cell_type": "code",
      "execution_count": null,
      "metadata": {
        "id": "iJjxB7QvvdsL",
        "colab": {
          "base_uri": "https://localhost:8080/"
        },
        "outputId": "f909e701-6c40-4b6e-e2f0-9cc6354cd0df"
      },
      "outputs": [
        {
          "output_type": "stream",
          "name": "stdout",
          "text": [
            "Looking in indexes: https://pypi.org/simple, https://us-python.pkg.dev/colab-wheels/public/simple/\n",
            "Collecting imageio-ffmpeg\n",
            "  Downloading imageio_ffmpeg-0.4.7-py3-none-manylinux2010_x86_64.whl (26.9 MB)\n",
            "\u001b[K     |████████████████████████████████| 26.9 MB 1.6 MB/s \n",
            "\u001b[?25hInstalling collected packages: imageio-ffmpeg\n",
            "Successfully installed imageio-ffmpeg-0.4.7\n"
          ]
        }
      ],
      "source": [
        "import numpy as np\n",
        "import matplotlib.pyplot as plt\n",
        "import imageio\n",
        "from scipy.ndimage import label, find_objects, center_of_mass, binary_erosion, binary_dilation\n",
        "!pip install imageio-ffmpeg"
      ]
    },
    {
      "cell_type": "code",
      "source": [
        "!wget http://www.benjymarks.com/alert/red-ball.MOV"
      ],
      "metadata": {
        "id": "6Gra72_6xjSi",
        "colab": {
          "base_uri": "https://localhost:8080/"
        },
        "outputId": "bef705d4-18a5-4b11-89f7-5ebc08a21fb5"
      },
      "execution_count": null,
      "outputs": [
        {
          "output_type": "stream",
          "name": "stdout",
          "text": [
            "--2022-09-29 12:13:36--  http://www.benjymarks.com/alert/red-ball.MOV\n",
            "Resolving www.benjymarks.com (www.benjymarks.com)... 65.254.227.224\n",
            "Connecting to www.benjymarks.com (www.benjymarks.com)|65.254.227.224|:80... connected.\n",
            "HTTP request sent, awaiting response... 200 OK\n",
            "Length: 23337193 (22M) [video/quicktime]\n",
            "Saving to: ‘red-ball.MOV’\n",
            "\n",
            "red-ball.MOV        100%[===================>]  22.26M  19.7MB/s    in 1.1s    \n",
            "\n",
            "2022-09-29 12:13:38 (19.7 MB/s) - ‘red-ball.MOV’ saved [23337193/23337193]\n",
            "\n"
          ]
        }
      ]
    },
    {
      "cell_type": "code",
      "source": [
        "video = imageio.get_reader('red-ball.MOV')"
      ],
      "metadata": {
        "id": "ByzokkQlvjc8",
        "colab": {
          "base_uri": "https://localhost:8080/"
        },
        "outputId": "9368b897-2800-420f-86d3-8c55a940597a"
      },
      "execution_count": null,
      "outputs": [
        {
          "output_type": "stream",
          "name": "stderr",
          "text": [
            "WARNING:imageio_ffmpeg:The frame size for reading (720, 1280) is different from the source frame size (1280, 720).\n"
          ]
        }
      ]
    },
    {
      "cell_type": "code",
      "source": [
        "structuring_element = np.array([[0,0,0,0,1,0,0,0,0],\n",
        "                                [0,0,1,1,1,1,1,0,0],\n",
        "                                [0,1,1,1,1,1,1,1,0],\n",
        "                                [0,1,1,1,1,1,1,1,0],\n",
        "                                [1,1,1,1,1,1,1,1,1],\n",
        "                                [0,1,1,1,1,1,1,1,0],\n",
        "                                [0,1,1,1,1,1,1,1,0],\n",
        "                                [0,0,1,1,1,1,1,0,0],\n",
        "                                [0,0,0,0,1,0,0,0,0]], dtype=bool)\n",
        "\n",
        "t = 0 # counter for frame number\n",
        "trajectory = [] # list to store the centroid location in\n",
        "\n",
        "for image in video.iter_data():\n",
        "    \n",
        "    im_hsv = rgb_to_hsv(image) # Convert to hsv\n",
        "\n",
        "    just_red = ((im_hsv[:,:,0] > 0.9) + (im_hsv[:,:,0] < 0.1)) * (im_hsv[:,:,1] > 0.7)\n",
        "\n",
        "    eroded =  binary_erosion(just_red, structuring_element)\n",
        "    opened =  binary_dilation(eroded, structuring_element)\n",
        "\n",
        "    labelled_image, num_features = label(opened)\n",
        "\n",
        "    objects = find_objects(labelled_image)\n",
        "\n",
        "    for i in range(len(objects)):\n",
        "        c = center_of_mass(opened, labelled_image, [i+1])[0]\n",
        "        area = labelled_image[objects[i]].sum()\n",
        "        if area > 10000:\n",
        "            # print(f'Area of object {i+1} is {area} pixels')\n",
        "            trajectory.append(c) \n",
        "    \n",
        "    t += 1"
      ],
      "metadata": {
        "id": "lqiT5sTbvetN"
      },
      "execution_count": null,
      "outputs": []
    },
    {
      "cell_type": "code",
      "source": [
        "plt.figure(figsize=[5,12])\n",
        "trajectory = np.array(trajectory)\n",
        "plt.plot(trajectory[:,1],trajectory[:,0])\n",
        "plt.gca().invert_yaxis()\n",
        "plt.xlabel('x')\n",
        "plt.ylabel('y')\n",
        "plt.gca().set_aspect('equal')\n",
        "plt.show()"
      ],
      "metadata": {
        "id": "_PkJaiSXocgp",
        "outputId": "a76f05e7-86ea-42d7-ca58-697259b4b5fe",
        "colab": {
          "base_uri": "https://localhost:8080/",
          "height": 714
        }
      },
      "execution_count": null,
      "outputs": [
        {
          "output_type": "display_data",
          "data": {
            "text/plain": [
              "<Figure size 360x864 with 1 Axes>"
            ],
            "image/png": "[encoded data removed]"
          },
          "metadata": {
            "needs_background": "light"
          }
        }
      ]
    },
    {
      "cell_type": "code",
      "source": [],
      "metadata": {
        "id": "oUfZKapTvnZW"
      },
      "execution_count": null,
      "outputs": []
    }
  ]
}